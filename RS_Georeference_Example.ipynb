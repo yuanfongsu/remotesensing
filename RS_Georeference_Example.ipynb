{
  "nbformat": 4,
  "nbformat_minor": 0,
  "metadata": {
    "colab": {
      "provenance": []
    },
    "kernelspec": {
      "name": "python3",
      "display_name": "Python 3"
    },
    "language_info": {
      "name": "python"
    }
  },
  "cells": [
    {
      "cell_type": "code",
      "execution_count": null,
      "metadata": {
        "colab": {
          "base_uri": "https://localhost:8080/"
        },
        "id": "7sPinPZgkjAh",
        "outputId": "5e6ecab9-fef3-4c30-86f4-014e8cb34091"
      },
      "outputs": [
        {
          "output_type": "stream",
          "name": "stdout",
          "text": [
            "[[1 1 1]\n",
            " [1 1 5]\n",
            " [1 3 4]\n",
            " [1 5 5]]\n"
          ]
        }
      ],
      "source": [
        "# (U, V) to (X, Y)\n",
        "import numpy as np\n",
        "w = np.array([[1, 1, 1], [1, 1, 5],[1,3,4],[1,5,5]])\n",
        "print(w)\n"
      ]
    },
    {
      "cell_type": "code",
      "source": [
        "# transpose of W\n",
        "print(w.T)"
      ],
      "metadata": {
        "colab": {
          "base_uri": "https://localhost:8080/"
        },
        "id": "4ki36Yudkw5e",
        "outputId": "6a0ff898-4dc0-40fe-be23-0ebd36d38e7c"
      },
      "execution_count": null,
      "outputs": [
        {
          "output_type": "stream",
          "name": "stdout",
          "text": [
            "[[1 1 1 1]\n",
            " [1 1 3 5]\n",
            " [1 5 4 5]]\n"
          ]
        }
      ]
    },
    {
      "cell_type": "code",
      "source": [
        "ww = np.dot(w.T, w)\n",
        "print(ww)"
      ],
      "metadata": {
        "colab": {
          "base_uri": "https://localhost:8080/"
        },
        "id": "iDLGcqAiky9c",
        "outputId": "68f40f11-e754-4e47-d492-384b7bace88b"
      },
      "execution_count": null,
      "outputs": [
        {
          "output_type": "stream",
          "name": "stdout",
          "text": [
            "[[ 4 10 15]\n",
            " [10 36 43]\n",
            " [15 43 67]]\n"
          ]
        }
      ]
    },
    {
      "cell_type": "code",
      "source": [
        "# inverse of ww   (ww-1)\n",
        "inverse_ww = np.linalg.inv(ww)\n",
        "print(inverse_ww)"
      ],
      "metadata": {
        "colab": {
          "base_uri": "https://localhost:8080/"
        },
        "id": "sptPCUIik__E",
        "outputId": "d06b1bc8-6f6d-4e11-83e9-1bc117f11666"
      },
      "execution_count": null,
      "outputs": [
        {
          "output_type": "stream",
          "name": "stdout",
          "text": [
            "[[ 1.59943182 -0.07102273 -0.3125    ]\n",
            " [-0.07102273  0.12215909 -0.0625    ]\n",
            " [-0.3125     -0.0625      0.125     ]]\n"
          ]
        }
      ]
    },
    {
      "cell_type": "code",
      "source": [
        "X = np.array([[31],[10],[32],[44]])\n",
        "print(X)"
      ],
      "metadata": {
        "colab": {
          "base_uri": "https://localhost:8080/"
        },
        "id": "dKHKXJ9rlId3",
        "outputId": "452aa64f-1efd-4cd7-f3ce-e2ed61de2524"
      },
      "execution_count": null,
      "outputs": [
        {
          "output_type": "stream",
          "name": "stdout",
          "text": [
            "[[31]\n",
            " [10]\n",
            " [32]\n",
            " [44]]\n"
          ]
        }
      ]
    },
    {
      "cell_type": "code",
      "source": [
        "# A = (((ww)-1).wT ).X\n",
        "\n",
        "C = np.dot(np.dot(inverse_ww,w.T),X)\n",
        "print(C)"
      ],
      "metadata": {
        "colab": {
          "base_uri": "https://localhost:8080/"
        },
        "id": "mOSQo26vkpao",
        "outputId": "84287f53-8fa8-4766-82b0-9c898c52fdd0"
      },
      "execution_count": null,
      "outputs": [
        {
          "output_type": "stream",
          "name": "stdout",
          "text": [
            "[[27.71590909]\n",
            " [ 8.48863636]\n",
            " [-5.25      ]]\n"
          ]
        }
      ]
    },
    {
      "cell_type": "code",
      "source": [
        "Y = np.array([[64],[30],[28],[9]])\n",
        "print(Y)"
      ],
      "metadata": {
        "colab": {
          "base_uri": "https://localhost:8080/"
        },
        "id": "uAIJQjE8lVzh",
        "outputId": "9b5159f2-7233-49b9-d54c-49f71d0aa5c3"
      },
      "execution_count": null,
      "outputs": [
        {
          "output_type": "stream",
          "name": "stdout",
          "text": [
            "[[64]\n",
            " [30]\n",
            " [28]\n",
            " [ 9]]\n"
          ]
        }
      ]
    },
    {
      "cell_type": "code",
      "source": [
        "D = np.dot(np.dot(inverse_ww,w.T),Y)\n",
        "print(D)"
      ],
      "metadata": {
        "colab": {
          "base_uri": "https://localhost:8080/"
        },
        "id": "MSqTHFCjlb4I",
        "outputId": "198d8c05-e2bc-48fb-f061-c568dded2853"
      },
      "execution_count": null,
      "outputs": [
        {
          "output_type": "stream",
          "name": "stdout",
          "text": [
            "[[77.75]\n",
            " [-5.25]\n",
            " [-8.5 ]]\n"
          ]
        }
      ]
    },
    {
      "cell_type": "code",
      "source": [
        "W = np.array([[27.71590909, 8.48863636, -5.25], [77.75, -5.25, -8.5]])\n",
        "print(W)"
      ],
      "metadata": {
        "colab": {
          "base_uri": "https://localhost:8080/"
        },
        "id": "cgyDbCN2piyg",
        "outputId": "169f95e1-b43a-4a55-9c40-72301ba5e23b"
      },
      "execution_count": null,
      "outputs": [
        {
          "output_type": "stream",
          "name": "stdout",
          "text": [
            "[[27.71590909  8.48863636 -5.25      ]\n",
            " [77.75       -5.25       -8.5       ]]\n"
          ]
        }
      ]
    },
    {
      "cell_type": "code",
      "source": [
        "uv = np.array([[1,1,1],[1,1,5],[1,3,4],[1, 5,5]])\n",
        "print(uv)"
      ],
      "metadata": {
        "colab": {
          "base_uri": "https://localhost:8080/"
        },
        "id": "3rpvhyTIpT1T",
        "outputId": "7959a031-4fff-4bce-b2c8-b647578f852f"
      },
      "execution_count": null,
      "outputs": [
        {
          "output_type": "stream",
          "name": "stdout",
          "text": [
            "[[1 1 1]\n",
            " [1 1 5]\n",
            " [1 3 4]\n",
            " [1 5 5]]\n"
          ]
        }
      ]
    },
    {
      "cell_type": "code",
      "source": [
        "eXY = np.dot(W,uv.T)\n",
        "print(eXY)"
      ],
      "metadata": {
        "colab": {
          "base_uri": "https://localhost:8080/"
        },
        "id": "x2clZBhOpvnd",
        "outputId": "b9676343-5e1b-40ea-a551-319975e1de01"
      },
      "execution_count": null,
      "outputs": [
        {
          "output_type": "stream",
          "name": "stdout",
          "text": [
            "[[30.95454545  9.95454545 32.18181817 43.90909089]\n",
            " [64.         30.         28.          9.        ]]\n"
          ]
        }
      ]
    },
    {
      "cell_type": "code",
      "source": [],
      "metadata": {
        "id": "DDUhdtH-qIGp"
      },
      "execution_count": null,
      "outputs": []
    },
    {
      "cell_type": "code",
      "source": [
        "import matplotlib.pyplot as plt\n",
        "plt.plot(eXY[0,:],eXY[1,:],'r.')\n",
        "plt.axis('equal')  # Set aspect ratio to be equal\n",
        "plt.show()"
      ],
      "metadata": {
        "colab": {
          "base_uri": "https://localhost:8080/",
          "height": 430
        },
        "id": "z5Ew1e2NpfLo",
        "outputId": "94cb42ee-a006-4208-ecff-e174cb41a4c5"
      },
      "execution_count": null,
      "outputs": [
        {
          "output_type": "display_data",
          "data": {
            "text/plain": [
              "<Figure size 640x480 with 1 Axes>"
            ],
            "image/png": "[encoded data removed]"
          },
          "metadata": {}
        }
      ]
    },
    {
      "cell_type": "code",
      "source": [
        "arr = np.array([(1,i, j) for i in range(1, 6) for j in range(1, 6)])\n",
        "print(arr)"
      ],
      "metadata": {
        "colab": {
          "base_uri": "https://localhost:8080/"
        },
        "id": "Al8gR3onrX6P",
        "outputId": "404ea03c-2ad2-4c82-edc5-eb19fb444fb0"
      },
      "execution_count": null,
      "outputs": [
        {
          "output_type": "stream",
          "name": "stdout",
          "text": [
            "[[1 1 1]\n",
            " [1 1 2]\n",
            " [1 1 3]\n",
            " [1 1 4]\n",
            " [1 1 5]\n",
            " [1 2 1]\n",
            " [1 2 2]\n",
            " [1 2 3]\n",
            " [1 2 4]\n",
            " [1 2 5]\n",
            " [1 3 1]\n",
            " [1 3 2]\n",
            " [1 3 3]\n",
            " [1 3 4]\n",
            " [1 3 5]\n",
            " [1 4 1]\n",
            " [1 4 2]\n",
            " [1 4 3]\n",
            " [1 4 4]\n",
            " [1 4 5]\n",
            " [1 5 1]\n",
            " [1 5 2]\n",
            " [1 5 3]\n",
            " [1 5 4]\n",
            " [1 5 5]]\n"
          ]
        }
      ]
    },
    {
      "cell_type": "code",
      "source": [
        "eXY = np.dot(W,arr.T)\n",
        "print(eXY)"
      ],
      "metadata": {
        "colab": {
          "base_uri": "https://localhost:8080/"
        },
        "id": "mjzhuPnwrc-R",
        "outputId": "1f3a74e7-f671-44c1-c96e-2ab21db6637a"
      },
      "execution_count": null,
      "outputs": [
        {
          "output_type": "stream",
          "name": "stdout",
          "text": [
            "[[30.95454545 25.70454545 20.45454545 15.20454545  9.95454545 39.44318181\n",
            "  34.19318181 28.94318181 23.69318181 18.44318181 47.93181817 42.68181817\n",
            "  37.43181817 32.18181817 26.93181817 56.42045453 51.17045453 45.92045453\n",
            "  40.67045453 35.42045453 64.90909089 59.65909089 54.40909089 49.15909089\n",
            "  43.90909089]\n",
            " [64.         55.5        47.         38.5        30.         58.75\n",
            "  50.25       41.75       33.25       24.75       53.5        45.\n",
            "  36.5        28.         19.5        48.25       39.75       31.25\n",
            "  22.75       14.25       43.         34.5        26.         17.5\n",
            "   9.        ]]\n"
          ]
        }
      ]
    },
    {
      "cell_type": "code",
      "source": [
        "plt.figure(figsize=[6,3])\n",
        "plt.subplot(121)\n",
        "plt.plot(arr[:,1],arr[:,2],'b.')\n",
        "plt.axis('equal')  # Set aspect ratio to be equal\n",
        "plt.grid()\n",
        "plt.subplot(122)\n",
        "plt.plot(eXY[0,:],eXY[1,:],'r.')\n",
        "plt.axis('equal')  # Set aspect ratio to be equal\n",
        "plt.grid()\n",
        "plt.show()\n"
      ],
      "metadata": {
        "colab": {
          "base_uri": "https://localhost:8080/",
          "height": 291
        },
        "id": "PZ7xzd14sFFD",
        "outputId": "9014a146-f4ab-439f-a008-17f9ac6a448c"
      },
      "execution_count": null,
      "outputs": [
        {
          "output_type": "display_data",
          "data": {
            "text/plain": [
              "<Figure size 600x300 with 2 Axes>"
            ],
            "image/png": "[encoded data removed]"
          },
          "metadata": {}
        }
      ]
    },
    {
      "cell_type": "code",
      "source": [
        "# (X, Y) to (U ,V)\n",
        "w = np.array([[1, 31, 64], [1, 10, 30],[1,32,28],[1,44,9]])\n",
        "print(w)\n",
        "\n"
      ],
      "metadata": {
        "colab": {
          "base_uri": "https://localhost:8080/"
        },
        "id": "3ViMVIzTlmUd",
        "outputId": "46d38789-943d-461e-acec-91fd515f1bdf"
      },
      "execution_count": null,
      "outputs": [
        {
          "output_type": "stream",
          "name": "stdout",
          "text": [
            "[[ 1 31 64]\n",
            " [ 1 10 30]\n",
            " [ 1 32 28]\n",
            " [ 1 44  9]]\n"
          ]
        }
      ]
    },
    {
      "cell_type": "code",
      "source": [
        "print(w.T)"
      ],
      "metadata": {
        "colab": {
          "base_uri": "https://localhost:8080/"
        },
        "id": "kFzpGZgzmE-3",
        "outputId": "bb4475b5-2462-45d9-e7a7-dc26a66a3066"
      },
      "execution_count": null,
      "outputs": [
        {
          "output_type": "stream",
          "name": "stdout",
          "text": [
            "[[ 1  1  1  1]\n",
            " [31 10 32 44]\n",
            " [64 30 28  9]]\n"
          ]
        }
      ]
    },
    {
      "cell_type": "code",
      "source": [
        "ww = np.dot(w.T, w)\n",
        "print(ww)"
      ],
      "metadata": {
        "colab": {
          "base_uri": "https://localhost:8080/"
        },
        "id": "ZG_9gxCemH8P",
        "outputId": "22f07f71-270a-481c-d916-665398b8bcb2"
      },
      "execution_count": null,
      "outputs": [
        {
          "output_type": "stream",
          "name": "stdout",
          "text": [
            "[[   4  117  131]\n",
            " [ 117 4021 3576]\n",
            " [ 131 3576 5861]]\n"
          ]
        }
      ]
    },
    {
      "cell_type": "code",
      "source": [
        "# inverse of ww   (ww-1)\n",
        "inverse_ww = np.linalg.inv(ww)\n",
        "print(inverse_ww)"
      ],
      "metadata": {
        "colab": {
          "base_uri": "https://localhost:8080/"
        },
        "id": "GntI8ZJpmK2w",
        "outputId": "8da79a16-2223-4ceb-a7c9-4ad33a1329c6"
      },
      "execution_count": null,
      "outputs": [
        {
          "output_type": "stream",
          "name": "stdout",
          "text": [
            "[[ 3.07952515e+00 -6.20747167e-02 -3.09569370e-02]\n",
            " [-6.20747167e-02  1.79498182e-03  2.92259494e-04]\n",
            " [-3.09569370e-02  2.92259494e-04  6.84224330e-04]]\n"
          ]
        }
      ]
    },
    {
      "cell_type": "code",
      "source": [
        "U = np.array([[1],[1],[3],[5]])\n",
        "print(U)"
      ],
      "metadata": {
        "colab": {
          "base_uri": "https://localhost:8080/"
        },
        "id": "p3xHMW7wmO0l",
        "outputId": "96cc63ee-6117-4478-ff1f-4e734d63ea78"
      },
      "execution_count": null,
      "outputs": [
        {
          "output_type": "stream",
          "name": "stdout",
          "text": [
            "[[1]\n",
            " [1]\n",
            " [3]\n",
            " [5]]\n"
          ]
        }
      ]
    },
    {
      "cell_type": "code",
      "source": [
        "A = np.dot(np.dot(inverse_ww,w.T),U)\n",
        "print(A)"
      ],
      "metadata": {
        "colab": {
          "base_uri": "https://localhost:8080/"
        },
        "id": "GkGols0pmt4Y",
        "outputId": "359b5a70-0297-4e1c-c5a2-2b9092f96c14"
      },
      "execution_count": null,
      "outputs": [
        {
          "output_type": "stream",
          "name": "stdout",
          "text": [
            "[[ 1.73118069]\n",
            " [ 0.08523521]\n",
            " [-0.05265071]]\n"
          ]
        }
      ]
    },
    {
      "cell_type": "code",
      "source": [
        "V = np.array([[1],[5],[4],[5]])\n",
        "print(V)"
      ],
      "metadata": {
        "colab": {
          "base_uri": "https://localhost:8080/"
        },
        "id": "re8J8uqzm2-U",
        "outputId": "e25c2434-4a5c-4a37-bda3-3a865d86221c"
      },
      "execution_count": null,
      "outputs": [
        {
          "output_type": "stream",
          "name": "stdout",
          "text": [
            "[[1]\n",
            " [5]\n",
            " [4]\n",
            " [5]]\n"
          ]
        }
      ]
    },
    {
      "cell_type": "code",
      "source": [
        "B = np.dot(np.dot(inverse_ww,w.T),V)\n",
        "print(B)"
      ],
      "metadata": {
        "colab": {
          "base_uri": "https://localhost:8080/"
        },
        "id": "htHZgleem-n2",
        "outputId": "2fdaaadf-ca58-4591-c4c5-f2ef74cbee92"
      },
      "execution_count": null,
      "outputs": [
        {
          "output_type": "stream",
          "name": "stdout",
          "text": [
            "[[ 8.07780016]\n",
            " [-0.05264528]\n",
            " [-0.08512751]]\n"
          ]
        }
      ]
    },
    {
      "cell_type": "code",
      "source": [
        "x1 = np.array([[1,31,64],[1,10,30],[1,32,28],[1, 44,9]])\n",
        "print(x1)"
      ],
      "metadata": {
        "colab": {
          "base_uri": "https://localhost:8080/"
        },
        "id": "Cw5X6u9snFJT",
        "outputId": "704c3d75-9cf9-4e47-facf-bfe4cff469cf"
      },
      "execution_count": null,
      "outputs": [
        {
          "output_type": "stream",
          "name": "stdout",
          "text": [
            "[[ 1 31 64]\n",
            " [ 1 10 30]\n",
            " [ 1 32 28]\n",
            " [ 1 44  9]]\n"
          ]
        }
      ]
    },
    {
      "cell_type": "code",
      "source": [
        "W = np.array([[1.73118, 0.085235, -0.05265], [8.0778, -0.052645, -0.08512751]])\n",
        "print(W)"
      ],
      "metadata": {
        "colab": {
          "base_uri": "https://localhost:8080/"
        },
        "id": "aEM_N5vqoY3P",
        "outputId": "db65ada4-1198-449e-d935-402a8816d49a"
      },
      "execution_count": null,
      "outputs": [
        {
          "output_type": "stream",
          "name": "stdout",
          "text": [
            "[[ 1.73118     0.085235   -0.05265   ]\n",
            " [ 8.0778     -0.052645   -0.08512751]]\n"
          ]
        }
      ]
    },
    {
      "cell_type": "code",
      "source": [
        "eUV = np.dot(W,x1.T)\n",
        "print(eUV.T)"
      ],
      "metadata": {
        "colab": {
          "base_uri": "https://localhost:8080/"
        },
        "id": "aB8DZqFLnedN",
        "outputId": "2a1e2c13-4390-4a29-9995-e6b1198a1758"
      },
      "execution_count": null,
      "outputs": [
        {
          "output_type": "stream",
          "name": "stdout",
          "text": [
            "[[1.003865   0.99764436]\n",
            " [1.00403    4.9975247 ]\n",
            " [2.9845     4.00958972]\n",
            " [5.00767    4.99527241]]\n"
          ]
        }
      ]
    },
    {
      "cell_type": "code",
      "source": [],
      "metadata": {
        "id": "3y5bTYqQnlTV"
      },
      "execution_count": null,
      "outputs": []
    }
  ]
}